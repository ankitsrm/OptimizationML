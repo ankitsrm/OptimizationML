{
  "nbformat": 4,
  "nbformat_minor": 0,
  "metadata": {
    "colab": {
      "provenance": [],
      "authorship_tag": "ABX9TyNDREtuLbDjCPZGiPh/7ptx",
      "include_colab_link": true
    },
    "kernelspec": {
      "name": "python3",
      "display_name": "Python 3"
    },
    "language_info": {
      "name": "python"
    }
  },
  "cells": [
    {
      "cell_type": "markdown",
      "metadata": {
        "id": "view-in-github",
        "colab_type": "text"
      },
      "source": [
        "<a href=\"https://colab.research.google.com/github/ankitsrm/OptimizationML/blob/main/SVD_Single_Value_Decomposition.ipynb\" target=\"_parent\"><img src=\"https://colab.research.google.com/assets/colab-badge.svg\" alt=\"Open In Colab\"/></a>"
      ]
    },
    {
      "cell_type": "code",
      "execution_count": 2,
      "metadata": {
        "colab": {
          "base_uri": "https://localhost:8080/"
        },
        "id": "iGKi8eohuH83",
        "outputId": "b7027b50-bdbe-43f9-9e3b-9d38856cf290"
      },
      "outputs": [
        {
          "output_type": "stream",
          "name": "stderr",
          "text": [
            "/usr/local/lib/python3.10/dist-packages/sklearn/datasets/_openml.py:968: FutureWarning: The default value of `parser` will change from `'liac-arff'` to `'auto'` in 1.4. You can set `parser='auto'` to silence this warning. Therefore, an `ImportError` will be raised from 1.4 if the dataset is dense and pandas is not installed. Note that the pandas parser may return different data types. See the Notes Section in fetch_openml's API doc for details.\n",
            "  warn(\n"
          ]
        }
      ],
      "source": [
        "import sklearn \n",
        "import numpy as np\n",
        "import pandas as pd \n",
        "\n",
        "#We will get the dataset (using sklearn dataset)\n",
        "\n",
        "from sklearn.datasets import fetch_openml\n",
        "mnist = fetch_openml('mnist_784')\n",
        "x = mnist.data\n",
        "y = mnist.target"
      ]
    },
    {
      "cell_type": "code",
      "source": [
        "# x is the pandas dataframe with each row being an image\n",
        "type(x)"
      ],
      "metadata": {
        "colab": {
          "base_uri": "https://localhost:8080/"
        },
        "id": "p-1CNmMUvR28",
        "outputId": "defa61b0-32bf-4f01-8734-31b077ca35ea"
      },
      "execution_count": 3,
      "outputs": [
        {
          "output_type": "execute_result",
          "data": {
            "text/plain": [
              "pandas.core.frame.DataFrame"
            ]
          },
          "metadata": {},
          "execution_count": 3
        }
      ]
    },
    {
      "cell_type": "code",
      "source": [
        "# there are 70000 images\n",
        "x.shape"
      ],
      "metadata": {
        "colab": {
          "base_uri": "https://localhost:8080/"
        },
        "id": "0Youv8lZvSDk",
        "outputId": "3a543423-b915-41d3-ac76-2037d4e82536"
      },
      "execution_count": 4,
      "outputs": [
        {
          "output_type": "execute_result",
          "data": {
            "text/plain": [
              "(70000, 784)"
            ]
          },
          "metadata": {},
          "execution_count": 4
        }
      ]
    },
    {
      "cell_type": "markdown",
      "source": [
        "In this images some eigen values are bigger and other are smaller "
      ],
      "metadata": {
        "id": "lC3W0XC_vvV7"
      }
    },
    {
      "cell_type": "code",
      "source": [
        "# there are 70000 labels corresponding to each image\n",
        "y.shape"
      ],
      "metadata": {
        "colab": {
          "base_uri": "https://localhost:8080/"
        },
        "id": "xBIjCwlLvz7Z",
        "outputId": "2a7f4ace-513e-43d0-f339-4d682b96944a"
      },
      "execution_count": 5,
      "outputs": [
        {
          "output_type": "execute_result",
          "data": {
            "text/plain": [
              "(70000,)"
            ]
          },
          "metadata": {},
          "execution_count": 5
        }
      ]
    },
    {
      "cell_type": "code",
      "source": [
        "import matplotlib.pyplot as plt\n"
      ],
      "metadata": {
        "id": "w3IbugWjwF2i"
      },
      "execution_count": 6,
      "outputs": []
    },
    {
      "cell_type": "code",
      "source": [
        "x.iloc[2]"
      ],
      "metadata": {
        "colab": {
          "base_uri": "https://localhost:8080/"
        },
        "id": "htnmqZAQwNaR",
        "outputId": "522ac114-4bed-4bb9-d81d-beb5de48c0ad"
      },
      "execution_count": 8,
      "outputs": [
        {
          "output_type": "execute_result",
          "data": {
            "text/plain": [
              "pixel1      0.0\n",
              "pixel2      0.0\n",
              "pixel3      0.0\n",
              "pixel4      0.0\n",
              "pixel5      0.0\n",
              "           ... \n",
              "pixel780    0.0\n",
              "pixel781    0.0\n",
              "pixel782    0.0\n",
              "pixel783    0.0\n",
              "pixel784    0.0\n",
              "Name: 2, Length: 784, dtype: float64"
            ]
          },
          "metadata": {},
          "execution_count": 8
        }
      ]
    },
    {
      "cell_type": "code",
      "source": [
        "somedigit = x.iloc[12].to_numpy().reshape(28,28)\n",
        "somedigit.shape"
      ],
      "metadata": {
        "colab": {
          "base_uri": "https://localhost:8080/"
        },
        "id": "xySLzR-nwSGL",
        "outputId": "40269f35-440a-42bd-d429-dfd3e904b03f"
      },
      "execution_count": 28,
      "outputs": [
        {
          "output_type": "execute_result",
          "data": {
            "text/plain": [
              "(28, 28)"
            ]
          },
          "metadata": {},
          "execution_count": 28
        }
      ]
    },
    {
      "cell_type": "markdown",
      "source": [
        "i picked a row 1 -- which was an array and then reshape into matrix "
      ],
      "metadata": {
        "id": "v9vdk5-uxP73"
      }
    },
    {
      "cell_type": "markdown",
      "source": [
        "It was written as a row and making a matrix of 28 * 28\n"
      ],
      "metadata": {
        "id": "But01RBYxb0h"
      }
    },
    {
      "cell_type": "code",
      "source": [
        "plt.imshow(somedigit, interpolation ='nearest')"
      ],
      "metadata": {
        "colab": {
          "base_uri": "https://localhost:8080/",
          "height": 447
        },
        "id": "fetHIL4ZwzRT",
        "outputId": "af832b1b-97e7-4491-e66c-52814626c66a"
      },
      "execution_count": 29,
      "outputs": [
        {
          "output_type": "execute_result",
          "data": {
            "text/plain": [
              "<matplotlib.image.AxesImage at 0x7fa9ecdf1e40>"
            ]
          },
          "metadata": {},
          "execution_count": 29
        },
        {
          "output_type": "display_data",
          "data": {
            "text/plain": [
              "<Figure size 640x480 with 1 Axes>"
            ],
            "image/png": "[encoded data removed]"
          },
          "metadata": {}
        }
      ]
    },
    {
      "cell_type": "markdown",
      "source": [
        "Image show plat.imshow "
      ],
      "metadata": {
        "id": "0z8PLNvKxx3u"
      }
    },
    {
      "cell_type": "code",
      "source": [
        "plt.axis('off')\n",
        "plt.show()"
      ],
      "metadata": {
        "colab": {
          "base_uri": "https://localhost:8080/",
          "height": 406
        },
        "id": "5W97mxZAxBb_",
        "outputId": "c2421bc8-8e18-47f3-f4d4-9e776f8b6a10"
      },
      "execution_count": 30,
      "outputs": [
        {
          "output_type": "display_data",
          "data": {
            "text/plain": [
              "<Figure size 640x480 with 1 Axes>"
            ],
            "image/png": "[encoded data removed]"
          },
          "metadata": {}
        }
      ]
    },
    {
      "cell_type": "code",
      "source": [
        "y.iloc[10]\n"
      ],
      "metadata": {
        "colab": {
          "base_uri": "https://localhost:8080/",
          "height": 35
        },
        "id": "pSTjGdU3yLtM",
        "outputId": "b70171fd-757d-4c98-c5c8-1f3fd0ca7902"
      },
      "execution_count": 31,
      "outputs": [
        {
          "output_type": "execute_result",
          "data": {
            "text/plain": [
              "'3'"
            ],
            "application/vnd.google.colaboratory.intrinsic+json": {
              "type": "string"
            }
          },
          "metadata": {},
          "execution_count": 31
        }
      ]
    },
    {
      "cell_type": "code",
      "source": [
        "somedigit"
      ],
      "metadata": {
        "colab": {
          "base_uri": "https://localhost:8080/"
        },
        "id": "l-zOr1t4yRH2",
        "outputId": "b233162c-7376-4ef9-8799-ee92a473df20"
      },
      "execution_count": 32,
      "outputs": [
        {
          "output_type": "execute_result",
          "data": {
            "text/plain": [
              "array([[  0.,   0.,   0.,   0.,   0.,   0.,   0.,   0.,   0.,   0.,   0.,\n",
              "          0.,   0.,   0.,   0.,   0.,   0.,   0.,   0.,   0.,   0.,   0.,\n",
              "          0.,   0.,   0.,   0.,   0.,   0.],\n",
              "       [  0.,   0.,   0.,   0.,   0.,   0.,   0.,   0.,   0.,   0.,   0.,\n",
              "          0.,   0.,   0.,   0.,   0.,   0.,   0.,   0.,   0.,   0.,   0.,\n",
              "          0.,   0.,   0.,   0.,   0.,   0.],\n",
              "       [  0.,   0.,   0.,   0.,   0.,   0.,   0.,   0.,   0.,   0.,   0.,\n",
              "          0.,   0.,   0.,   0.,   0.,   0.,   0.,   0.,   0.,   0.,   0.,\n",
              "          0.,   0.,   0.,   0.,   0.,   0.],\n",
              "       [  0.,   0.,   0.,   0.,   0.,   0.,   0.,   0.,   0.,   0.,   0.,\n",
              "          0.,   0.,   0.,   0.,   0.,   0.,   0.,   0.,   0.,   0.,   0.,\n",
              "          0.,   0.,   0.,   0.,   0.,   0.],\n",
              "       [  0.,   0.,   0.,   0.,   0.,   0.,   0.,   0.,   0.,   0.,   0.,\n",
              "          0.,   0.,   0.,   0.,   0.,   0.,   0.,   0.,   0.,   0.,   0.,\n",
              "          0.,   0.,   0.,   0.,   0.,   0.],\n",
              "       [  0.,   0.,   0.,  12.,  99.,  91., 142., 155., 246., 182., 155.,\n",
              "        155., 155., 155., 131.,  52.,   0.,   0.,   0.,   0.,   0.,   0.,\n",
              "          0.,   0.,   0.,   0.,   0.,   0.],\n",
              "       [  0.,   0.,   0., 138., 254., 254., 254., 254., 254., 254., 254.,\n",
              "        254., 254., 254., 254., 252., 210., 122.,  33.,   0.,   0.,   0.,\n",
              "          0.,   0.,   0.,   0.,   0.,   0.],\n",
              "       [  0.,   0.,   0., 220., 254., 254., 254., 235., 189., 189., 189.,\n",
              "        189., 150., 189., 205., 254., 254., 254.,  75.,   0.,   0.,   0.,\n",
              "          0.,   0.,   0.,   0.,   0.,   0.],\n",
              "       [  0.,   0.,   0.,  35.,  74.,  35.,  35.,  25.,   0.,   0.,   0.,\n",
              "          0.,   0.,   0.,  13., 224., 254., 254., 153.,   0.,   0.,   0.,\n",
              "          0.,   0.,   0.,   0.,   0.,   0.],\n",
              "       [  0.,   0.,   0.,   0.,   0.,   0.,   0.,   0.,   0.,   0.,   0.,\n",
              "          0.,   0.,   0.,  90., 254., 254., 247.,  53.,   0.,   0.,   0.,\n",
              "          0.,   0.,   0.,   0.,   0.,   0.],\n",
              "       [  0.,   0.,   0.,   0.,   0.,   0.,   0.,   0.,   0.,   0.,   0.,\n",
              "          0.,   6., 152., 246., 254., 254.,  49.,   0.,   0.,   0.,   0.,\n",
              "          0.,   0.,   0.,   0.,   0.,   0.],\n",
              "       [  0.,   0.,   0.,   0.,   0.,   0.,   0.,   0.,   0.,   0.,   0.,\n",
              "         66., 158., 254., 254., 249., 103.,   8.,   0.,   0.,   0.,   0.,\n",
              "          0.,   0.,   0.,   0.,   0.,   0.],\n",
              "       [  0.,   0.,   0.,   0.,   0.,   0.,   0.,   0.,   0.,   0.,  54.,\n",
              "        251., 254., 254., 254., 248.,  74.,   5.,   0.,   0.,   0.,   0.,\n",
              "          0.,   0.,   0.,   0.,   0.,   0.],\n",
              "       [  0.,   0.,   0.,   0.,   0.,   0.,   0.,   0.,   0.,   0., 140.,\n",
              "        254., 254., 254., 254., 254., 254., 202., 125.,  45.,   0.,   0.,\n",
              "          0.,   0.,   0.,   0.,   0.,   0.],\n",
              "       [  0.,   0.,   0.,   0.,   0.,   0.,   0.,   0.,   0.,   0.,  58.,\n",
              "        181., 234., 254., 254., 254., 254., 254., 254., 252., 140.,  22.,\n",
              "          0.,   0.,   0.,   0.,   0.,   0.],\n",
              "       [  0.,   0.,   0.,   0.,   0.,   0.,   0.,   0.,   0.,   0.,   0.,\n",
              "          0.,  30.,  50.,  73., 155., 253., 254., 254., 254., 254., 191.,\n",
              "          2.,   0.,   0.,   0.,   0.,   0.],\n",
              "       [  0.,   0.,   0.,   0.,   0.,   0.,   0.,   0.,   0.,   0.,   0.,\n",
              "          0.,   0.,   0.,   0.,   0.,  91., 200., 254., 254., 254., 254.,\n",
              "        118.,   0.,   0.,   0.,   0.,   0.],\n",
              "       [  0.,   0.,   0.,   0.,   0.,   0.,   0.,   0.,   0.,   0.,   0.,\n",
              "          0.,   0.,   0.,   0.,   0.,   0.,   4., 192., 254., 254., 254.,\n",
              "        154.,   0.,   0.,   0.,   0.,   0.],\n",
              "       [  0.,   0.,   0.,   0.,   0.,   0.,   0.,   0.,   0.,   0.,   0.,\n",
              "          0.,   0.,   0.,   0.,   0.,   0.,   0., 141., 254., 254., 254.,\n",
              "        116.,   0.,   0.,   0.,   0.,   0.],\n",
              "       [  0.,   0.,   0.,   0.,   0.,   0.,   0.,   0.,  25., 126.,  86.,\n",
              "          0.,   0.,   0.,   0.,   0.,   0.,   3., 188., 254., 254., 250.,\n",
              "         61.,   0.,   0.,   0.,   0.,   0.],\n",
              "       [  0.,   0.,   0.,   0.,   0.,   0.,   0.,  24., 209., 254.,  15.,\n",
              "          0.,   0.,   0.,   0.,   0.,  23., 137., 254., 254., 254., 209.,\n",
              "          0.,   0.,   0.,   0.,   0.,   0.],\n",
              "       [  0.,   0.,   0.,   0.,   0.,   0.,   0., 168., 254., 254.,  48.,\n",
              "          9.,   0.,   0.,   9., 127., 241., 254., 254., 255., 242.,  63.,\n",
              "          0.,   0.,   0.,   0.,   0.,   0.],\n",
              "       [  0.,   0.,   0.,   0.,   0.,   0.,   0., 101., 254., 254., 254.,\n",
              "        205., 190., 190., 205., 254., 254., 254., 254., 242.,  67.,   0.,\n",
              "          0.,   0.,   0.,   0.,   0.,   0.],\n",
              "       [  0.,   0.,   0.,   0.,   0.,   0.,   0.,  33., 166., 254., 254.,\n",
              "        254., 254., 254., 254., 254., 254., 250., 138.,  55.,   0.,   0.,\n",
              "          0.,   0.,   0.,   0.,   0.,   0.],\n",
              "       [  0.,   0.,   0.,   0.,   0.,   0.,   0.,   0.,   7.,  88., 154.,\n",
              "        116., 194., 194., 154., 154.,  88.,  49.,   0.,   0.,   0.,   0.,\n",
              "          0.,   0.,   0.,   0.,   0.,   0.],\n",
              "       [  0.,   0.,   0.,   0.,   0.,   0.,   0.,   0.,   0.,   0.,   0.,\n",
              "          0.,   0.,   0.,   0.,   0.,   0.,   0.,   0.,   0.,   0.,   0.,\n",
              "          0.,   0.,   0.,   0.,   0.,   0.],\n",
              "       [  0.,   0.,   0.,   0.,   0.,   0.,   0.,   0.,   0.,   0.,   0.,\n",
              "          0.,   0.,   0.,   0.,   0.,   0.,   0.,   0.,   0.,   0.,   0.,\n",
              "          0.,   0.,   0.,   0.,   0.,   0.],\n",
              "       [  0.,   0.,   0.,   0.,   0.,   0.,   0.,   0.,   0.,   0.,   0.,\n",
              "          0.,   0.,   0.,   0.,   0.,   0.,   0.,   0.,   0.,   0.,   0.,\n",
              "          0.,   0.,   0.,   0.,   0.,   0.]])"
            ]
          },
          "metadata": {},
          "execution_count": 32
        }
      ]
    },
    {
      "cell_type": "code",
      "source": [
        "Lambda, u = np.linalg.eig(somedigit)"
      ],
      "metadata": {
        "id": "B7uaaG0OyTW6"
      },
      "execution_count": 33,
      "outputs": []
    },
    {
      "cell_type": "code",
      "source": [
        "print (Lambda)"
      ],
      "metadata": {
        "colab": {
          "base_uri": "https://localhost:8080/"
        },
        "id": "fCg9dpM7ye9c",
        "outputId": "030300e9-0f41-4b4a-e211-6a0bac8741c4"
      },
      "execution_count": 34,
      "outputs": [
        {
          "output_type": "stream",
          "name": "stdout",
          "text": [
            "[   0.          +0.j            0.          +0.j\n",
            " 1523.14887998  +0.j          704.97001669+176.89675985j\n",
            "  704.97001669-176.89675985j  -66.95182535+436.85111838j\n",
            "  -66.95182535-436.85111838j -237.5045437   +0.j\n",
            " -171.9769542   +0.j          126.12735666  +0.j\n",
            "   19.18714166 +81.06845221j   19.18714166 -81.06845221j\n",
            "   51.02271779  +0.j          -82.46967273  +0.j\n",
            "  -71.40934318  +0.j          -38.35169237  +0.j\n",
            "  -26.18288421 +21.50909959j  -26.18288421 -21.50909959j\n",
            "    4.68417709 +18.67379445j    4.68417709 -18.67379445j\n",
            "    0.          +0.j            0.          +0.j\n",
            "    0.          +0.j            0.          +0.j\n",
            "    0.          +0.j            0.          +0.j\n",
            "    0.          +0.j            0.          +0.j        ]\n"
          ]
        }
      ]
    },
    {
      "cell_type": "code",
      "source": [
        "len(abs(Lambda))"
      ],
      "metadata": {
        "colab": {
          "base_uri": "https://localhost:8080/"
        },
        "id": "sn0EqY44yh2A",
        "outputId": "a948dec1-0bc3-4d61-e59a-73fe1939260c"
      },
      "execution_count": 35,
      "outputs": [
        {
          "output_type": "execute_result",
          "data": {
            "text/plain": [
              "28"
            ]
          },
          "metadata": {},
          "execution_count": 35
        }
      ]
    },
    {
      "cell_type": "markdown",
      "source": [
        "So there is length 28 means 28 element "
      ],
      "metadata": {
        "id": "2cLfHveT3ZeZ"
      }
    },
    {
      "cell_type": "code",
      "source": [
        "np.sort(abs(Lambda))[::-1]"
      ],
      "metadata": {
        "colab": {
          "base_uri": "https://localhost:8080/"
        },
        "id": "-jnwPYVI3mIb",
        "outputId": "a2560b66-7098-4d4a-fb64-1b43b2e9b8ff"
      },
      "execution_count": 36,
      "outputs": [
        {
          "output_type": "execute_result",
          "data": {
            "text/plain": [
              "array([1523.14887998,  726.82541788,  726.82541788,  441.95185999,\n",
              "        441.95185999,  237.5045437 ,  171.9769542 ,  126.12735666,\n",
              "         83.30810494,   83.30810494,   82.46967273,   71.40934318,\n",
              "         51.02271779,   38.35169237,   33.88487555,   33.88487555,\n",
              "         19.2523275 ,   19.2523275 ,    0.        ,    0.        ,\n",
              "          0.        ,    0.        ,    0.        ,    0.        ,\n",
              "          0.        ,    0.        ,    0.        ,    0.        ])"
            ]
          },
          "metadata": {},
          "execution_count": 36
        }
      ]
    },
    {
      "cell_type": "markdown",
      "source": [
        "array([1.25510018e+03, 8.34010945e+02, 6.10055378e+02, 6.10055378e+02,\n",
        "       2.65217699e+02, 1.92682170e+02, 9.81483189e+01, 9.81483189e+01,\n",
        "       8.83289321e+01, 8.83289321e+01, 6.60521386e+01, 6.60521386e+01,\n",
        "       3.87055481e+01, 3.87055481e+01   }  \n",
        "\n",
        "      These are positive eigen vector other are small, Only these value contianing the main energy of this matrix other dont have anything\n"
      ],
      "metadata": {
        "id": "3SONjdrD4vVE"
      }
    },
    {
      "cell_type": "markdown",
      "source": [
        "here only 12 dataset only important and othere are not importnat nahi hai which it shows "
      ],
      "metadata": {
        "id": "Mku4PwVS5qjF"
      }
    },
    {
      "cell_type": "code",
      "source": [],
      "metadata": {
        "id": "dm1uhEjH4zLh"
      },
      "execution_count": null,
      "outputs": []
    },
    {
      "cell_type": "code",
      "source": [],
      "metadata": {
        "id": "_k6RkmOF3s2x"
      },
      "execution_count": null,
      "outputs": []
    }
  ]
}